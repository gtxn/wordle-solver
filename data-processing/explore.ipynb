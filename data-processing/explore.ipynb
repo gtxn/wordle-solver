{
 "cells": [
  {
   "cell_type": "code",
   "execution_count": 10,
   "metadata": {},
   "outputs": [],
   "source": [
    "# Load data \n",
    "f_ans, f_guess = open('../wordlists/answers.txt'), open('../wordlists/guesses.txt')\n",
    "\n",
    "ANS_ARR= f_ans.read().strip().split('\\n')\n",
    "GUESS_ARR = f_guess.read().strip().split('\\n')"
   ]
  },
  {
   "cell_type": "code",
   "execution_count": 11,
   "metadata": {},
   "outputs": [],
   "source": [
    "# variables\n",
    "import os\n",
    "WORD_MAP_PATH = os.path.join(os.getcwd(), '../outputs/word_map.json')\n",
    "FREQ_MAP_PATH = os.path.join(os.getcwd(), '../outputs/freq_map.json')"
   ]
  },
  {
   "cell_type": "code",
   "execution_count": 7,
   "metadata": {},
   "outputs": [],
   "source": [
    "# Get frequency data and words associated with each letter\n",
    "import json, re\n",
    "\n",
    "def get_freq_map():\n",
    "    letters = 'abcdefghijklmnopqrstuvwxyz'\n",
    "    letter_freq_map = {}\n",
    "    letter_words_map = {}\n",
    "    \n",
    "    for letter in letters:\n",
    "        letter_freq_map[letter] = {\n",
    "            0: 0,\n",
    "            1: 0,\n",
    "            2: 0,\n",
    "            3: 0,\n",
    "            4: 0,\n",
    "            'total': 0\n",
    "        }\n",
    "        letter_words_map[letter] = {\n",
    "            0: [],\n",
    "            1: [],\n",
    "            2: [],\n",
    "            3: [],\n",
    "            4: [],\n",
    "            'total': []\n",
    "        }\n",
    "        \n",
    "        for word in ANS_ARR:\n",
    "            if letter in word:\n",
    "                letter_freq_map[letter]['total'] += 1\n",
    "                letter_words_map[letter]['total'].append(word)\n",
    "                \n",
    "                pos_found = [m.start() for m in re.finditer(letter, word)]\n",
    "                for i in pos_found:\n",
    "                    letter_freq_map[letter][i] += 1\n",
    "                    letter_words_map[letter][i].append(word)\n",
    "    \n",
    "    with open(FREQ_MAP_PATH, 'w') as file:\n",
    "        json.dump(letter_freq_map, file)\n",
    "        \n",
    "    with open(WORD_MAP_PATH, 'w') as file:\n",
    "        json.dump(letter_words_map, file)\n",
    "        \n",
    "get_freq_map('freq_map.json', 'word_map.json')"
   ]
  }
 ],
 "metadata": {
  "interpreter": {
   "hash": "e5636ffc153da7db7b6d1dc58addf2f6ed12be77811fa639070518547f151fbc"
  },
  "kernelspec": {
   "display_name": "Python 3.8.12 ('wordle-exploration')",
   "language": "python",
   "name": "python3"
  },
  "language_info": {
   "codemirror_mode": {
    "name": "ipython",
    "version": 3
   },
   "file_extension": ".py",
   "mimetype": "text/x-python",
   "name": "python",
   "nbconvert_exporter": "python",
   "pygments_lexer": "ipython3",
   "version": "3.8.12"
  },
  "orig_nbformat": 4
 },
 "nbformat": 4,
 "nbformat_minor": 2
}
