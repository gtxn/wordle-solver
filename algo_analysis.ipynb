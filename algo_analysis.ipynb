{
 "cells": [
  {
   "cell_type": "code",
   "execution_count": 2,
   "metadata": {},
   "outputs": [
    {
     "name": "stdout",
     "output_type": "stream",
     "text": [
      "Loading statemap...\n",
      "Statemap loaded\n"
     ]
    }
   ],
   "source": [
    "from utils import *\n",
    "from global_vars import *"
   ]
  },
  {
   "cell_type": "code",
   "execution_count": 54,
   "metadata": {},
   "outputs": [
    {
     "name": "stdout",
     "output_type": "stream",
     "text": [
      "{1: 0, 2: 22, 3: 898, 4: 1290, 5: 103, 6: 2, -1: 0}\n"
     ]
    }
   ],
   "source": [
    "stats = {\n",
    "    1: 0, # In 1 try\n",
    "    2: 0, # In 2 tries\n",
    "    3: 0, # In 3 tries\n",
    "    4: 0, # In 4 tries\n",
    "    5: 0, # In 5 tries\n",
    "    6: 0, # In 6 tries\n",
    "    -1: 0\n",
    "}\n",
    "\n",
    "for i, answer in enumerate(ANS_ARR):\n",
    "    rnd = 1\n",
    "    avail_words = GUESS_ARR\n",
    "    won = False\n",
    "    \n",
    "    while rnd <= 6 and not won:\n",
    "        if rnd ==1:\n",
    "            guess, entropy = 'soare', 5.9 # From previous exp, dont need traverse again\n",
    "        else:\n",
    "            guess, entropy = get_guess(avail_words)\n",
    "        \n",
    "        state = ''.join(map(str, get_state(guess, answer)))\n",
    "        avail_words = set(STATE_MAP[guess][state]) & set(avail_words)\n",
    "        \n",
    "        if guess == answer:\n",
    "            won = True\n",
    "            break\n",
    "        \n",
    "        rnd += 1\n",
    "        \n",
    "    if won:\n",
    "        stats[rnd] += 1\n",
    "    else:\n",
    "        stats[-1] += 1\n",
    "        \n",
    "    print(f\"{i+1}/{len(ANS_ARR)} words tested\", end='\\r')\n",
    "\n",
    "print(stats)"
   ]
  },
  {
   "cell_type": "code",
   "execution_count": 6,
   "metadata": {},
   "outputs": [
    {
     "name": "stdout",
     "output_type": "stream",
     "text": [
      "Collecting matplotlib\n",
      "  Downloading matplotlib-3.5.1-cp38-cp38-macosx_10_9_x86_64.whl (7.3 MB)\n",
      "\u001b[K     |████████████████████████████████| 7.3 MB 7.0 MB/s eta 0:00:01\n",
      "\u001b[?25hCollecting numpy>=1.17\n",
      "  Downloading numpy-1.22.2-cp38-cp38-macosx_10_14_x86_64.whl (17.6 MB)\n",
      "\u001b[K     |████████████████████████████████| 17.6 MB 37.0 MB/s eta 0:00:01\n",
      "\u001b[?25hCollecting fonttools>=4.22.0\n",
      "  Using cached fonttools-4.29.1-py3-none-any.whl (895 kB)\n",
      "Requirement already satisfied: python-dateutil>=2.7 in /Users/glenda/opt/anaconda3/envs/wordle-exploration/lib/python3.8/site-packages (from matplotlib) (2.8.2)\n",
      "Collecting kiwisolver>=1.0.1\n",
      "  Downloading kiwisolver-1.3.2-cp38-cp38-macosx_10_9_x86_64.whl (61 kB)\n",
      "\u001b[K     |████████████████████████████████| 61 kB 774 kB/s eta 0:00:01\n",
      "\u001b[?25hCollecting pillow>=6.2.0\n",
      "  Downloading Pillow-9.0.1-cp38-cp38-macosx_10_10_x86_64.whl (3.0 MB)\n",
      "\u001b[K     |████████████████████████████████| 3.0 MB 12.7 MB/s eta 0:00:01\n",
      "\u001b[?25hRequirement already satisfied: packaging>=20.0 in /Users/glenda/opt/anaconda3/envs/wordle-exploration/lib/python3.8/site-packages (from matplotlib) (21.3)\n",
      "Requirement already satisfied: pyparsing>=2.2.1 in /Users/glenda/opt/anaconda3/envs/wordle-exploration/lib/python3.8/site-packages (from matplotlib) (3.0.4)\n",
      "Collecting cycler>=0.10\n",
      "  Using cached cycler-0.11.0-py3-none-any.whl (6.4 kB)\n",
      "Requirement already satisfied: six>=1.5 in /Users/glenda/opt/anaconda3/envs/wordle-exploration/lib/python3.8/site-packages (from python-dateutil>=2.7->matplotlib) (1.16.0)\n",
      "Installing collected packages: pillow, numpy, kiwisolver, fonttools, cycler, matplotlib\n",
      "Successfully installed cycler-0.11.0 fonttools-4.29.1 kiwisolver-1.3.2 matplotlib-3.5.1 numpy-1.22.2 pillow-9.0.1\n"
     ]
    }
   ],
   "source": [
    "!pip3 install matplotlib"
   ]
  },
  {
   "cell_type": "code",
   "execution_count": 55,
   "metadata": {},
   "outputs": [],
   "source": [
    "with open('./outputs/stats.json', 'w') as f:\n",
    "    json.dump(stats, f)"
   ]
  },
  {
   "cell_type": "code",
   "execution_count": 8,
   "metadata": {},
   "outputs": [],
   "source": [
    "import matplotlib.pyplot as plt\n",
    "import numpy as np"
   ]
  },
  {
   "cell_type": "code",
   "execution_count": 51,
   "metadata": {},
   "outputs": [
    {
     "data": {
      "text/plain": [
       "[]"
      ]
     },
     "execution_count": 51,
     "metadata": {},
     "output_type": "execute_result"
    },
    {
     "data": {
      "image/png": "[encoded data removed]",
      "text/plain": [
       "<Figure size 432x288 with 1 Axes>"
      ]
     },
     "metadata": {
      "needs_background": "light"
     },
     "output_type": "display_data"
    }
   ],
   "source": [
    "# Number solved by algorithm\n",
    "stats = json.load(open('./outputs/stats.json'))\n",
    "\n",
    "x = np.array(list(stats.keys()), dtype='int64')\n",
    "y = np.array(list(stats.values()), dtype='int64')\n",
    "plt.bar(x, y)\n",
    "plt.title(\"Number of guesses needed to solve\")\n",
    "plt.plot()"
   ]
  },
  {
   "cell_type": "code",
   "execution_count": 52,
   "metadata": {},
   "outputs": [
    {
     "data": {
      "text/plain": [
       "3.639308855291577"
      ]
     },
     "execution_count": 52,
     "metadata": {},
     "output_type": "execute_result"
    }
   ],
   "source": [
    "total = 0\n",
    "div = 0\n",
    "\n",
    "for i in range(len(x)):\n",
    "    total += x[i] * y[i]\n",
    "    div += y[i]\n",
    "    \n",
    "total / div"
   ]
  },
  {
   "cell_type": "code",
   "execution_count": 56,
   "metadata": {},
   "outputs": [
    {
     "data": {
      "text/plain": [
       "2315"
      ]
     },
     "execution_count": 56,
     "metadata": {},
     "output_type": "execute_result"
    }
   ],
   "source": [
    "len(ANS_ARR)"
   ]
  },
  {
   "cell_type": "code",
   "execution_count": null,
   "metadata": {},
   "outputs": [],
   "source": []
  }
 ],
 "metadata": {
  "interpreter": {
   "hash": "e5636ffc153da7db7b6d1dc58addf2f6ed12be77811fa639070518547f151fbc"
  },
  "kernelspec": {
   "display_name": "Python 3.8.12 ('wordle-exploration')",
   "language": "python",
   "name": "python3"
  },
  "language_info": {
   "codemirror_mode": {
    "name": "ipython",
    "version": 3
   },
   "file_extension": ".py",
   "mimetype": "text/x-python",
   "name": "python",
   "nbconvert_exporter": "python",
   "pygments_lexer": "ipython3",
   "version": "3.8.12"
  },
  "orig_nbformat": 4
 },
 "nbformat": 4,
 "nbformat_minor": 2
}
